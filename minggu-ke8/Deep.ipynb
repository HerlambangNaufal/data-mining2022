{
 "cells": [
  {
   "cell_type": "code",
   "execution_count": 3,
   "id": "c88d7958",
   "metadata": {},
   "outputs": [],
   "source": [
    "import numpy as np\n",
    "import matplotlib.pyplot as plt\n",
    "import pandas as pd"
   ]
  },
  {
   "cell_type": "code",
   "execution_count": 5,
   "id": "3444cf39",
   "metadata": {},
   "outputs": [],
   "source": [
    "def forwardPass(inputs, weight, bias, activation = 'linear'):\n",
    "    w_sum = np.dot(inputs, weight) + bias\n",
    "\n",
    "    if activation == 'relu' :\n",
    "        # ReLU Activation f(x) = max(0, x)\n",
    "        act = np.maximum(w_sum, 0)\n",
    "    else :\n",
    "        # Linear Activation f(x) = x\n",
    "        act = w_sum\n",
    "\n",
    "    return act"
   ]
  },
  {
   "cell_type": "code",
   "execution_count": 6,
   "id": "95328c45",
   "metadata": {},
   "outputs": [],
   "source": [
    "# Pre-Trained Weights & Biases after Training\n",
    "W_H = np.array([[0.00192761, -0.78845304, 0.30310717, 0.44131625, 0.32792646, -0.02451803, 1.43445349, -1.12972116]])\n",
    "b_H = np.array([-0.02657719, -1.15885878, -0.79183501, -0.33550513, -0.23438406, -0.25078532, 0.22305705, 0.80253315])\n",
    "\n",
    "W_o = np.array([[-0.77540326], [ 0.5030424 ], [ 0.37374797], [-0.20287184], [-0.35956827], [-0.54576212], [ 1.04326093], [ 0.8857621 ]])\n",
    "b_o = np.array([ 0.04351173])\n"
   ]
  },
  {
   "cell_type": "code",
   "execution_count": 11,
   "id": "0189634b",
   "metadata": {},
   "outputs": [],
   "source": [
    "# Initialize Input Data\n",
    "inputs = np.array([[-2], [0], [2]])"
   ]
  },
  {
   "cell_type": "code",
   "execution_count": 12,
   "id": "afd0b526",
   "metadata": {},
   "outputs": [],
   "source": [
    "#Output of Hidden Layer\n",
    "h_out = forwardPass(inputs, W_H, b_H, 'relu')"
   ]
  },
  {
   "cell_type": "code",
   "execution_count": 13,
   "id": "01521ebe",
   "metadata": {},
   "outputs": [
    {
     "name": "stdout",
     "output_type": "stream",
     "text": [
      "Hidden Layer Output (ReLU)\n",
      "================================\n",
      "[[0.         0.4180473  0.         0.         0.         0.\n",
      "  0.         3.06197547]\n",
      " [0.         0.         0.         0.         0.         0.\n",
      "  0.22305705 0.80253315]\n",
      " [0.         0.         0.         0.54712737 0.42146886 0.\n",
      "  3.09196403 0.        ]] \n",
      "\n"
     ]
    }
   ],
   "source": [
    "print('Hidden Layer Output (ReLU)')\n",
    "print('================================')\n",
    "print(h_out, \"\\n\")"
   ]
  },
  {
   "cell_type": "code",
   "execution_count": 14,
   "id": "afe02a92",
   "metadata": {},
   "outputs": [],
   "source": [
    "# Output of Output Layer\n",
    "o_out = forwardPass(h_out, W_o, b_o, 'linear')"
   ]
  },
  {
   "cell_type": "code",
   "execution_count": 15,
   "id": "7ec69faf",
   "metadata": {},
   "outputs": [
    {
     "name": "stdout",
     "output_type": "stream",
     "text": [
      "Output Layer Output (Linear)\n",
      "================================\n",
      "[[2.96598907]\n",
      " [0.98707188]\n",
      " [3.00669343]] \n",
      "\n"
     ]
    }
   ],
   "source": [
    "print('Output Layer Output (Linear)')\n",
    "print('================================')\n",
    "print(o_out, \"\\n\")"
   ]
  },
  {
   "cell_type": "code",
   "execution_count": 16,
   "id": "9fe46fe3",
   "metadata": {},
   "outputs": [
    {
     "data": {
      "text/plain": [
       "'[[ 2.96598907]\\n [ 0.98707188]\\n [ 3.00669343]]'"
      ]
     },
     "execution_count": 16,
     "metadata": {},
     "output_type": "execute_result"
    }
   ],
   "source": [
    "\"\"\"[[ 2.96598907]\n",
    " [ 0.98707188]\n",
    " [ 3.00669343]]\"\"\""
   ]
  },
  {
   "cell_type": "code",
   "execution_count": null,
   "id": "ab5b600d",
   "metadata": {},
   "outputs": [],
   "source": []
  }
 ],
 "metadata": {
  "kernelspec": {
   "display_name": "Python 3 (ipykernel)",
   "language": "python",
   "name": "python3"
  },
  "language_info": {
   "codemirror_mode": {
    "name": "ipython",
    "version": 3
   },
   "file_extension": ".py",
   "mimetype": "text/x-python",
   "name": "python",
   "nbconvert_exporter": "python",
   "pygments_lexer": "ipython3",
   "version": "3.9.7"
  }
 },
 "nbformat": 4,
 "nbformat_minor": 5
}
